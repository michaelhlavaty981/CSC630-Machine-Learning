{
 "cells": [
  {
   "cell_type": "markdown",
   "id": "7641243d-1ad3-48a1-81c9-a5baba5eb1a2",
   "metadata": {},
   "source": [
    "# Artifact: Palmer Penguins Dataset Analysis\n",
    "## Machine Learning, Fall 2021\n",
    "### Name: Michael Hlavaty"
   ]
  },
  {
   "cell_type": "markdown",
   "id": "2d1306f6-9050-4e5b-a2dc-5bc1038f0fd7",
   "metadata": {},
   "source": [
    "__TO-DO__\n",
    "1. Introduce dataset\n",
    "2. Describe ethical implications of using this dataset...e.g how was the data obtained?\n",
    "3. Analyze physical characterstics with respect to `sex`, `island`\n",
    "4. Analyze dataset count distributions"
   ]
  },
  {
   "cell_type": "markdown",
   "id": "9d5b93ea-08a3-4da7-bd0b-8da59a6bff1d",
   "metadata": {},
   "source": [
    "In this notebook, I begin to dive into the Palmer Archipelago (Antarctica) penguin dataset. "
   ]
  },
  {
   "cell_type": "markdown",
   "id": "5fea4e05-0d91-4c61-b06c-e5a145c6169e",
   "metadata": {},
   "source": [
    "## Sources"
   ]
  },
  {
   "cell_type": "markdown",
   "id": "c73cd58b-8dc1-4383-b93f-152b4816f5ad",
   "metadata": {},
   "source": [
    "* https://www.kaggle.com/parulpandey/palmer-archipelago-antarctica-penguin-data?select=penguins_size.csv\n",
    "* https://matplotlib.org/stable/gallery/shapes_and_collections/scatter.html\n",
    "* https://pandas.pydata.org/pandas-docs/stable/user_guide/categorical.html\n",
    "* https://www.kite.com/python/docs/matplotlib.collections.PathCollection.legend_elements"
   ]
  },
  {
   "cell_type": "markdown",
   "id": "1caa917d-e3a1-430d-afff-6413fc724e65",
   "metadata": {},
   "source": [
    "## Data Exploration"
   ]
  },
  {
   "cell_type": "code",
   "execution_count": 1,
   "id": "d9a1d746-2790-45bb-a620-718ee2c268cd",
   "metadata": {},
   "outputs": [],
   "source": [
    "# Importing a number of useful Python libraries\n",
    "import numpy as np\n",
    "import pandas as pd\n",
    "import matplotlib.pyplot as plt\n",
    "import math"
   ]
  },
  {
   "cell_type": "markdown",
   "id": "2aff1e8f-6bf8-4d28-bf15-c889e30096b9",
   "metadata": {},
   "source": [
    "Let's import the data. I've downloaded the necessary `.csv` files into a folder named `palmer_penguins`"
   ]
  },
  {
   "cell_type": "code",
   "execution_count": 2,
   "id": "3bf995fa-8be2-40c0-81e3-193de51ef678",
   "metadata": {},
   "outputs": [
    {
     "data": {
      "text/html": [
       "<div>\n",
       "<style scoped>\n",
       "    .dataframe tbody tr th:only-of-type {\n",
       "        vertical-align: middle;\n",
       "    }\n",
       "\n",
       "    .dataframe tbody tr th {\n",
       "        vertical-align: top;\n",
       "    }\n",
       "\n",
       "    .dataframe thead th {\n",
       "        text-align: right;\n",
       "    }\n",
       "</style>\n",
       "<table border=\"1\" class=\"dataframe\">\n",
       "  <thead>\n",
       "    <tr style=\"text-align: right;\">\n",
       "      <th></th>\n",
       "      <th>species</th>\n",
       "      <th>island</th>\n",
       "      <th>culmen_length_mm</th>\n",
       "      <th>culmen_depth_mm</th>\n",
       "      <th>flipper_length_mm</th>\n",
       "      <th>body_mass_g</th>\n",
       "      <th>sex</th>\n",
       "    </tr>\n",
       "  </thead>\n",
       "  <tbody>\n",
       "    <tr>\n",
       "      <th>0</th>\n",
       "      <td>Adelie</td>\n",
       "      <td>Torgersen</td>\n",
       "      <td>39.1</td>\n",
       "      <td>18.7</td>\n",
       "      <td>181.0</td>\n",
       "      <td>3750.0</td>\n",
       "      <td>MALE</td>\n",
       "    </tr>\n",
       "    <tr>\n",
       "      <th>1</th>\n",
       "      <td>Adelie</td>\n",
       "      <td>Torgersen</td>\n",
       "      <td>39.5</td>\n",
       "      <td>17.4</td>\n",
       "      <td>186.0</td>\n",
       "      <td>3800.0</td>\n",
       "      <td>FEMALE</td>\n",
       "    </tr>\n",
       "    <tr>\n",
       "      <th>2</th>\n",
       "      <td>Adelie</td>\n",
       "      <td>Torgersen</td>\n",
       "      <td>40.3</td>\n",
       "      <td>18.0</td>\n",
       "      <td>195.0</td>\n",
       "      <td>3250.0</td>\n",
       "      <td>FEMALE</td>\n",
       "    </tr>\n",
       "    <tr>\n",
       "      <th>3</th>\n",
       "      <td>Adelie</td>\n",
       "      <td>Torgersen</td>\n",
       "      <td>NaN</td>\n",
       "      <td>NaN</td>\n",
       "      <td>NaN</td>\n",
       "      <td>NaN</td>\n",
       "      <td>NaN</td>\n",
       "    </tr>\n",
       "    <tr>\n",
       "      <th>4</th>\n",
       "      <td>Adelie</td>\n",
       "      <td>Torgersen</td>\n",
       "      <td>36.7</td>\n",
       "      <td>19.3</td>\n",
       "      <td>193.0</td>\n",
       "      <td>3450.0</td>\n",
       "      <td>FEMALE</td>\n",
       "    </tr>\n",
       "  </tbody>\n",
       "</table>\n",
       "</div>"
      ],
      "text/plain": [
       "  species     island  culmen_length_mm  culmen_depth_mm  flipper_length_mm  \\\n",
       "0  Adelie  Torgersen              39.1             18.7              181.0   \n",
       "1  Adelie  Torgersen              39.5             17.4              186.0   \n",
       "2  Adelie  Torgersen              40.3             18.0              195.0   \n",
       "3  Adelie  Torgersen               NaN              NaN                NaN   \n",
       "4  Adelie  Torgersen              36.7             19.3              193.0   \n",
       "\n",
       "   body_mass_g     sex  \n",
       "0       3750.0    MALE  \n",
       "1       3800.0  FEMALE  \n",
       "2       3250.0  FEMALE  \n",
       "3          NaN     NaN  \n",
       "4       3450.0  FEMALE  "
      ]
     },
     "execution_count": 2,
     "metadata": {},
     "output_type": "execute_result"
    }
   ],
   "source": [
    "data = pd.read_csv('palmer_penguins/penguins_size.csv')\n",
    "data.head()"
   ]
  },
  {
   "cell_type": "markdown",
   "id": "5a5a8042-d6cf-431e-bb25-3da718977dec",
   "metadata": {},
   "source": [
    "Okay, so here's a snippet of the dataset. I can already see some `NaN` values which will need to be cleaned. I can see also see all of the variables in the first row. According to the dataset's documentation,\n",
    "\n",
    "* `species`: penguin species (Chinstrap, Adélie, or Gentoo)\n",
    "* `culmen_length_mm`: culmen length (mm) (according to the Oxford Dictionary, the culmen is \"the upper ridge of a bird's beak\")\n",
    "* `culmen_depth_mm`: culmen depth (mm)\n",
    "* `flipper_length_mm`: flipper length (mm)\n",
    "* `body_mass_g`: body mass (g)\n",
    "* `island`: island name (Dream, Torgersen, or Biscoe) in the Palmer Archipelago (Antarctica)\n",
    "* `sex`: penguin sex\n",
    "\n"
   ]
  },
  {
   "cell_type": "markdown",
   "id": "f3164e2d-f9b8-4126-bd96-dc6c33408627",
   "metadata": {},
   "source": [
    "### Cleaning the Data"
   ]
  },
  {
   "cell_type": "markdown",
   "id": "f53f9f2a-5931-4581-bd45-9d0b926019ef",
   "metadata": {},
   "source": [
    "As noted above, we need to first clean the data by looking for `NaN` values"
   ]
  },
  {
   "cell_type": "code",
   "execution_count": 3,
   "id": "82ae35c4-3bfc-4e86-bfe2-c83eadca3172",
   "metadata": {},
   "outputs": [
    {
     "data": {
      "text/html": [
       "<div>\n",
       "<style scoped>\n",
       "    .dataframe tbody tr th:only-of-type {\n",
       "        vertical-align: middle;\n",
       "    }\n",
       "\n",
       "    .dataframe tbody tr th {\n",
       "        vertical-align: top;\n",
       "    }\n",
       "\n",
       "    .dataframe thead th {\n",
       "        text-align: right;\n",
       "    }\n",
       "</style>\n",
       "<table border=\"1\" class=\"dataframe\">\n",
       "  <thead>\n",
       "    <tr style=\"text-align: right;\">\n",
       "      <th></th>\n",
       "      <th>species</th>\n",
       "      <th>island</th>\n",
       "      <th>culmen_length_mm</th>\n",
       "      <th>culmen_depth_mm</th>\n",
       "      <th>flipper_length_mm</th>\n",
       "      <th>body_mass_g</th>\n",
       "      <th>sex</th>\n",
       "    </tr>\n",
       "  </thead>\n",
       "  <tbody>\n",
       "    <tr>\n",
       "      <th>3</th>\n",
       "      <td>Adelie</td>\n",
       "      <td>Torgersen</td>\n",
       "      <td>NaN</td>\n",
       "      <td>NaN</td>\n",
       "      <td>NaN</td>\n",
       "      <td>NaN</td>\n",
       "      <td>NaN</td>\n",
       "    </tr>\n",
       "    <tr>\n",
       "      <th>8</th>\n",
       "      <td>Adelie</td>\n",
       "      <td>Torgersen</td>\n",
       "      <td>34.1</td>\n",
       "      <td>18.1</td>\n",
       "      <td>193.0</td>\n",
       "      <td>3475.0</td>\n",
       "      <td>NaN</td>\n",
       "    </tr>\n",
       "    <tr>\n",
       "      <th>9</th>\n",
       "      <td>Adelie</td>\n",
       "      <td>Torgersen</td>\n",
       "      <td>42.0</td>\n",
       "      <td>20.2</td>\n",
       "      <td>190.0</td>\n",
       "      <td>4250.0</td>\n",
       "      <td>NaN</td>\n",
       "    </tr>\n",
       "    <tr>\n",
       "      <th>10</th>\n",
       "      <td>Adelie</td>\n",
       "      <td>Torgersen</td>\n",
       "      <td>37.8</td>\n",
       "      <td>17.1</td>\n",
       "      <td>186.0</td>\n",
       "      <td>3300.0</td>\n",
       "      <td>NaN</td>\n",
       "    </tr>\n",
       "    <tr>\n",
       "      <th>11</th>\n",
       "      <td>Adelie</td>\n",
       "      <td>Torgersen</td>\n",
       "      <td>37.8</td>\n",
       "      <td>17.3</td>\n",
       "      <td>180.0</td>\n",
       "      <td>3700.0</td>\n",
       "      <td>NaN</td>\n",
       "    </tr>\n",
       "    <tr>\n",
       "      <th>47</th>\n",
       "      <td>Adelie</td>\n",
       "      <td>Dream</td>\n",
       "      <td>37.5</td>\n",
       "      <td>18.9</td>\n",
       "      <td>179.0</td>\n",
       "      <td>2975.0</td>\n",
       "      <td>NaN</td>\n",
       "    </tr>\n",
       "    <tr>\n",
       "      <th>246</th>\n",
       "      <td>Gentoo</td>\n",
       "      <td>Biscoe</td>\n",
       "      <td>44.5</td>\n",
       "      <td>14.3</td>\n",
       "      <td>216.0</td>\n",
       "      <td>4100.0</td>\n",
       "      <td>NaN</td>\n",
       "    </tr>\n",
       "    <tr>\n",
       "      <th>286</th>\n",
       "      <td>Gentoo</td>\n",
       "      <td>Biscoe</td>\n",
       "      <td>46.2</td>\n",
       "      <td>14.4</td>\n",
       "      <td>214.0</td>\n",
       "      <td>4650.0</td>\n",
       "      <td>NaN</td>\n",
       "    </tr>\n",
       "    <tr>\n",
       "      <th>324</th>\n",
       "      <td>Gentoo</td>\n",
       "      <td>Biscoe</td>\n",
       "      <td>47.3</td>\n",
       "      <td>13.8</td>\n",
       "      <td>216.0</td>\n",
       "      <td>4725.0</td>\n",
       "      <td>NaN</td>\n",
       "    </tr>\n",
       "    <tr>\n",
       "      <th>339</th>\n",
       "      <td>Gentoo</td>\n",
       "      <td>Biscoe</td>\n",
       "      <td>NaN</td>\n",
       "      <td>NaN</td>\n",
       "      <td>NaN</td>\n",
       "      <td>NaN</td>\n",
       "      <td>NaN</td>\n",
       "    </tr>\n",
       "  </tbody>\n",
       "</table>\n",
       "</div>"
      ],
      "text/plain": [
       "    species     island  culmen_length_mm  culmen_depth_mm  flipper_length_mm  \\\n",
       "3    Adelie  Torgersen               NaN              NaN                NaN   \n",
       "8    Adelie  Torgersen              34.1             18.1              193.0   \n",
       "9    Adelie  Torgersen              42.0             20.2              190.0   \n",
       "10   Adelie  Torgersen              37.8             17.1              186.0   \n",
       "11   Adelie  Torgersen              37.8             17.3              180.0   \n",
       "47   Adelie      Dream              37.5             18.9              179.0   \n",
       "246  Gentoo     Biscoe              44.5             14.3              216.0   \n",
       "286  Gentoo     Biscoe              46.2             14.4              214.0   \n",
       "324  Gentoo     Biscoe              47.3             13.8              216.0   \n",
       "339  Gentoo     Biscoe               NaN              NaN                NaN   \n",
       "\n",
       "     body_mass_g  sex  \n",
       "3            NaN  NaN  \n",
       "8         3475.0  NaN  \n",
       "9         4250.0  NaN  \n",
       "10        3300.0  NaN  \n",
       "11        3700.0  NaN  \n",
       "47        2975.0  NaN  \n",
       "246       4100.0  NaN  \n",
       "286       4650.0  NaN  \n",
       "324       4725.0  NaN  \n",
       "339          NaN  NaN  "
      ]
     },
     "execution_count": 3,
     "metadata": {},
     "output_type": "execute_result"
    }
   ],
   "source": [
    "data[data.isnull().any(axis=1)]"
   ]
  },
  {
   "cell_type": "markdown",
   "id": "47268200-5b70-47da-ad2e-d4acc0d68362",
   "metadata": {},
   "source": [
    "Okay, so I can see 10 penguins with missing values. Since there are more than 300 penguins, I feel comfortable removing the penguins from the dataset rather than removing the columns with the respective missing values. As observed in the table above, all the penguins with missing data also have `NaN` values for `sex`. Thus, I can remove all penguins with missing, or null data in the `sex` column."
   ]
  },
  {
   "cell_type": "code",
   "execution_count": 10,
   "id": "c930dff7-dda3-4110-9189-beeb29a4add1",
   "metadata": {},
   "outputs": [
    {
     "data": {
      "text/html": [
       "<div>\n",
       "<style scoped>\n",
       "    .dataframe tbody tr th:only-of-type {\n",
       "        vertical-align: middle;\n",
       "    }\n",
       "\n",
       "    .dataframe tbody tr th {\n",
       "        vertical-align: top;\n",
       "    }\n",
       "\n",
       "    .dataframe thead th {\n",
       "        text-align: right;\n",
       "    }\n",
       "</style>\n",
       "<table border=\"1\" class=\"dataframe\">\n",
       "  <thead>\n",
       "    <tr style=\"text-align: right;\">\n",
       "      <th></th>\n",
       "      <th>species</th>\n",
       "      <th>island</th>\n",
       "      <th>culmen_length_mm</th>\n",
       "      <th>culmen_depth_mm</th>\n",
       "      <th>flipper_length_mm</th>\n",
       "      <th>body_mass_g</th>\n",
       "      <th>sex</th>\n",
       "    </tr>\n",
       "  </thead>\n",
       "  <tbody>\n",
       "  </tbody>\n",
       "</table>\n",
       "</div>"
      ],
      "text/plain": [
       "Empty DataFrame\n",
       "Columns: [species, island, culmen_length_mm, culmen_depth_mm, flipper_length_mm, body_mass_g, sex]\n",
       "Index: []"
      ]
     },
     "execution_count": 10,
     "metadata": {},
     "output_type": "execute_result"
    }
   ],
   "source": [
    "data = data[data.sex.notnull()] # removing all observations (penguins) whose sex is null, or NaN\n",
    "data[data.isnull().any(axis=1)]"
   ]
  },
  {
   "cell_type": "markdown",
   "id": "4a6a21d3-1cf1-4d75-b493-d1788b78a703",
   "metadata": {},
   "source": [
    "Great! It appears that we removed all `NaN` values from the dataset. However, there may still being missing or unexpected (negative) values. Let's look at some basic statistics for the dataset."
   ]
  },
  {
   "cell_type": "code",
   "execution_count": 11,
   "id": "b0d4a25a-78ee-44bf-9a45-c9e6b5e20d44",
   "metadata": {},
   "outputs": [
    {
     "data": {
      "text/html": [
       "<div>\n",
       "<style scoped>\n",
       "    .dataframe tbody tr th:only-of-type {\n",
       "        vertical-align: middle;\n",
       "    }\n",
       "\n",
       "    .dataframe tbody tr th {\n",
       "        vertical-align: top;\n",
       "    }\n",
       "\n",
       "    .dataframe thead th {\n",
       "        text-align: right;\n",
       "    }\n",
       "</style>\n",
       "<table border=\"1\" class=\"dataframe\">\n",
       "  <thead>\n",
       "    <tr style=\"text-align: right;\">\n",
       "      <th></th>\n",
       "      <th>culmen_length_mm</th>\n",
       "      <th>culmen_depth_mm</th>\n",
       "      <th>flipper_length_mm</th>\n",
       "      <th>body_mass_g</th>\n",
       "    </tr>\n",
       "  </thead>\n",
       "  <tbody>\n",
       "    <tr>\n",
       "      <th>count</th>\n",
       "      <td>334.000000</td>\n",
       "      <td>334.000000</td>\n",
       "      <td>334.000000</td>\n",
       "      <td>334.000000</td>\n",
       "    </tr>\n",
       "    <tr>\n",
       "      <th>mean</th>\n",
       "      <td>43.994311</td>\n",
       "      <td>17.160479</td>\n",
       "      <td>201.014970</td>\n",
       "      <td>4209.056886</td>\n",
       "    </tr>\n",
       "    <tr>\n",
       "      <th>std</th>\n",
       "      <td>5.460521</td>\n",
       "      <td>1.967909</td>\n",
       "      <td>14.022175</td>\n",
       "      <td>804.836129</td>\n",
       "    </tr>\n",
       "    <tr>\n",
       "      <th>min</th>\n",
       "      <td>32.100000</td>\n",
       "      <td>13.100000</td>\n",
       "      <td>172.000000</td>\n",
       "      <td>2700.000000</td>\n",
       "    </tr>\n",
       "    <tr>\n",
       "      <th>25%</th>\n",
       "      <td>39.500000</td>\n",
       "      <td>15.600000</td>\n",
       "      <td>190.000000</td>\n",
       "      <td>3550.000000</td>\n",
       "    </tr>\n",
       "    <tr>\n",
       "      <th>50%</th>\n",
       "      <td>44.500000</td>\n",
       "      <td>17.300000</td>\n",
       "      <td>197.000000</td>\n",
       "      <td>4050.000000</td>\n",
       "    </tr>\n",
       "    <tr>\n",
       "      <th>75%</th>\n",
       "      <td>48.575000</td>\n",
       "      <td>18.700000</td>\n",
       "      <td>213.000000</td>\n",
       "      <td>4793.750000</td>\n",
       "    </tr>\n",
       "    <tr>\n",
       "      <th>max</th>\n",
       "      <td>59.600000</td>\n",
       "      <td>21.500000</td>\n",
       "      <td>231.000000</td>\n",
       "      <td>6300.000000</td>\n",
       "    </tr>\n",
       "  </tbody>\n",
       "</table>\n",
       "</div>"
      ],
      "text/plain": [
       "       culmen_length_mm  culmen_depth_mm  flipper_length_mm  body_mass_g\n",
       "count        334.000000       334.000000         334.000000   334.000000\n",
       "mean          43.994311        17.160479         201.014970  4209.056886\n",
       "std            5.460521         1.967909          14.022175   804.836129\n",
       "min           32.100000        13.100000         172.000000  2700.000000\n",
       "25%           39.500000        15.600000         190.000000  3550.000000\n",
       "50%           44.500000        17.300000         197.000000  4050.000000\n",
       "75%           48.575000        18.700000         213.000000  4793.750000\n",
       "max           59.600000        21.500000         231.000000  6300.000000"
      ]
     },
     "execution_count": 11,
     "metadata": {},
     "output_type": "execute_result"
    }
   ],
   "source": [
    "data.describe()"
   ]
  },
  {
   "cell_type": "markdown",
   "id": "8bbf6665-31b1-4b71-af88-faf4b1e1e4ad",
   "metadata": {},
   "source": [
    "There are 334 rows in the dataset. The mean `flipper_length_mm` > `culmen_length_mm` > `culmen_depth_mm`, which makes sense because I'd expect a penguin's flipper to be longer than their culmen, and I would expect that the depth of the culmen to be shorter than the length of the culmen and its flipper. There does not appear to be any outliers yet: there are no negative values based on the `min` values and the `min` doesn't appear to significantly deviate from the `25%` percentile, and the `max` values do not appear to be very large relative to the `75%` percentile. The values from this table seem reasonable, so I'll start diving a bit deeper into the dataset."
   ]
  },
  {
   "cell_type": "markdown",
   "id": "dbd9ba9d-802f-491e-a65e-b4edcfd1c74a",
   "metadata": {},
   "source": [
    "### Scatterplots"
   ]
  },
  {
   "cell_type": "markdown",
   "id": "845330d6-2528-4cc9-af35-453a9c7b17ac",
   "metadata": {},
   "source": [
    "I'm familiar with using scatterplots to compare two numerical variables, so I'll start with doing those comparisons. There appear to be four numerical variables in the dataset: `culmen_length_mm`, `culmen_depth_mm`, `flipper_length_mm`, and `body_mass_g`."
   ]
  },
  {
   "cell_type": "markdown",
   "id": "ccb3ac23-33ba-4b2d-a668-2c6e0965b5d7",
   "metadata": {},
   "source": [
    "#### `culmen_depth_mm` by `culmen_length_mm` considering `species`"
   ]
  },
  {
   "cell_type": "markdown",
   "id": "048d28be-c8b1-4c1a-8f83-be95fb5a24cc",
   "metadata": {},
   "source": [
    "Let's start by comparing the culmen dimensions: `culmen_length_mm` and `culmen_depth_mm`"
   ]
  },
  {
   "cell_type": "code",
   "execution_count": 12,
   "id": "0d558156-8aca-479a-91fd-b9aae76a435f",
   "metadata": {},
   "outputs": [
    {
     "data": {
      "text/html": [
       "<div>\n",
       "<style scoped>\n",
       "    .dataframe tbody tr th:only-of-type {\n",
       "        vertical-align: middle;\n",
       "    }\n",
       "\n",
       "    .dataframe tbody tr th {\n",
       "        vertical-align: top;\n",
       "    }\n",
       "\n",
       "    .dataframe thead th {\n",
       "        text-align: right;\n",
       "    }\n",
       "</style>\n",
       "<table border=\"1\" class=\"dataframe\">\n",
       "  <thead>\n",
       "    <tr style=\"text-align: right;\">\n",
       "      <th></th>\n",
       "      <th>culmen_length_mm</th>\n",
       "      <th>culmen_depth_mm</th>\n",
       "    </tr>\n",
       "  </thead>\n",
       "  <tbody>\n",
       "    <tr>\n",
       "      <th>0</th>\n",
       "      <td>39.1</td>\n",
       "      <td>18.7</td>\n",
       "    </tr>\n",
       "    <tr>\n",
       "      <th>1</th>\n",
       "      <td>39.5</td>\n",
       "      <td>17.4</td>\n",
       "    </tr>\n",
       "    <tr>\n",
       "      <th>2</th>\n",
       "      <td>40.3</td>\n",
       "      <td>18.0</td>\n",
       "    </tr>\n",
       "    <tr>\n",
       "      <th>4</th>\n",
       "      <td>36.7</td>\n",
       "      <td>19.3</td>\n",
       "    </tr>\n",
       "    <tr>\n",
       "      <th>5</th>\n",
       "      <td>39.3</td>\n",
       "      <td>20.6</td>\n",
       "    </tr>\n",
       "    <tr>\n",
       "      <th>...</th>\n",
       "      <td>...</td>\n",
       "      <td>...</td>\n",
       "    </tr>\n",
       "    <tr>\n",
       "      <th>338</th>\n",
       "      <td>47.2</td>\n",
       "      <td>13.7</td>\n",
       "    </tr>\n",
       "    <tr>\n",
       "      <th>340</th>\n",
       "      <td>46.8</td>\n",
       "      <td>14.3</td>\n",
       "    </tr>\n",
       "    <tr>\n",
       "      <th>341</th>\n",
       "      <td>50.4</td>\n",
       "      <td>15.7</td>\n",
       "    </tr>\n",
       "    <tr>\n",
       "      <th>342</th>\n",
       "      <td>45.2</td>\n",
       "      <td>14.8</td>\n",
       "    </tr>\n",
       "    <tr>\n",
       "      <th>343</th>\n",
       "      <td>49.9</td>\n",
       "      <td>16.1</td>\n",
       "    </tr>\n",
       "  </tbody>\n",
       "</table>\n",
       "<p>334 rows × 2 columns</p>\n",
       "</div>"
      ],
      "text/plain": [
       "     culmen_length_mm  culmen_depth_mm\n",
       "0                39.1             18.7\n",
       "1                39.5             17.4\n",
       "2                40.3             18.0\n",
       "4                36.7             19.3\n",
       "5                39.3             20.6\n",
       "..                ...              ...\n",
       "338              47.2             13.7\n",
       "340              46.8             14.3\n",
       "341              50.4             15.7\n",
       "342              45.2             14.8\n",
       "343              49.9             16.1\n",
       "\n",
       "[334 rows x 2 columns]"
      ]
     },
     "execution_count": 12,
     "metadata": {},
     "output_type": "execute_result"
    }
   ],
   "source": [
    "culmen_data = data[['culmen_length_mm','culmen_depth_mm']]\n",
    "culmen_data"
   ]
  },
  {
   "cell_type": "markdown",
   "id": "5e2a6718-66c7-4ed9-834c-8681ae095c3c",
   "metadata": {},
   "source": [
    "Okay, so here's a short output of the two variables. Let's plot this data in a scatterplot and see if we can find any trends betwen the two variables."
   ]
  },
  {
   "cell_type": "code",
   "execution_count": 53,
   "id": "1bdb09a1-2f6e-4a45-b5f2-a0f91504771c",
   "metadata": {},
   "outputs": [
    {
     "data": {
      "image/png": "[encoded data removed]",
      "text/plain": [
       "<Figure size 432x288 with 1 Axes>"
      ]
     },
     "metadata": {
      "needs_background": "light"
     },
     "output_type": "display_data"
    }
   ],
   "source": [
    "plt.scatter(data.culmen_length_mm, data.culmen_depth_mm)\n",
    "plt.title(\"culmen depth by culmen length\")\n",
    "plt.xlabel(\"culmen length (mm)\")\n",
    "plt.ylabel(\"culmen depth (mm)\")\n",
    "plt.show()"
   ]
  },
  {
   "cell_type": "markdown",
   "id": "911eb428-cf30-4918-a84a-90403082fbab",
   "metadata": {},
   "source": [
    "Okay, so I can't describe a pattern for the overall distribution, but I do notice three different clusters in the scatterplot. The first one is towards the top left corner, the second in the top right corner, and the third towards middle of the bottom half. Perhaps there is a factor that directly affects these values?\n",
    "\n",
    "There are three clusters and three `species`. Let's try plotting the scatterplot with respect to `species` and see if this explains part of the trend."
   ]
  },
  {
   "cell_type": "code",
   "execution_count": 47,
   "id": "26102f9b-6efd-477b-ba05-8180fff4e769",
   "metadata": {},
   "outputs": [
    {
     "data": {
      "image/png": "[encoded data removed]",
      "text/plain": [
       "<Figure size 432x288 with 1 Axes>"
      ]
     },
     "metadata": {
      "needs_background": "light"
     },
     "output_type": "display_data"
    }
   ],
   "source": [
    "scatter = plt.scatter(data.culmen_length_mm, data.culmen_depth_mm, c=data.species.astype('category').cat.codes)\n",
    "plt.title(\"culmen depth by culmen length\")\n",
    "plt.xlabel(\"culmen length (mm)\")\n",
    "plt.ylabel(\"culmen depth (mm)\")\n",
    "plt.legend(handles = scatter.legend_elements()[0], labels = ['Adelie','Chinstrap','Gentoo'])\n",
    "plt.show()"
   ]
  },
  {
   "cell_type": "markdown",
   "id": "278bcc66-6c40-48fd-b679-c83dfc923af2",
   "metadata": {},
   "source": [
    "Wow! By coloring the data points based on the penguins' `species`, the three clusters are emphasized. It appears that Adelie penguins generally has a shorter culmen length relative to the other species' but a larger culmen depth. On the other hand, Gentoo penguins typically has longer culmen lengths relatve to the other species', but a shorter culmen depth. Lastly, Chinstrap penguins typically has a large culmen length and large culmen depth relative to those of the other species'."
   ]
  },
  {
   "cell_type": "markdown",
   "id": "2794a4a1-171a-4ea9-a6c4-b9af6afa992f",
   "metadata": {},
   "source": [
    "#### `body_mass_g` by `flipper_length_mm` considering `species`"
   ]
  },
  {
   "cell_type": "code",
   "execution_count": 15,
   "id": "93954440-2b8c-44cd-86e6-a5386ce5c78d",
   "metadata": {},
   "outputs": [
    {
     "data": {
      "text/html": [
       "<div>\n",
       "<style scoped>\n",
       "    .dataframe tbody tr th:only-of-type {\n",
       "        vertical-align: middle;\n",
       "    }\n",
       "\n",
       "    .dataframe tbody tr th {\n",
       "        vertical-align: top;\n",
       "    }\n",
       "\n",
       "    .dataframe thead th {\n",
       "        text-align: right;\n",
       "    }\n",
       "</style>\n",
       "<table border=\"1\" class=\"dataframe\">\n",
       "  <thead>\n",
       "    <tr style=\"text-align: right;\">\n",
       "      <th></th>\n",
       "      <th>flipper_length_mm</th>\n",
       "      <th>body_mass_g</th>\n",
       "    </tr>\n",
       "  </thead>\n",
       "  <tbody>\n",
       "    <tr>\n",
       "      <th>0</th>\n",
       "      <td>181.0</td>\n",
       "      <td>3750.0</td>\n",
       "    </tr>\n",
       "    <tr>\n",
       "      <th>1</th>\n",
       "      <td>186.0</td>\n",
       "      <td>3800.0</td>\n",
       "    </tr>\n",
       "    <tr>\n",
       "      <th>2</th>\n",
       "      <td>195.0</td>\n",
       "      <td>3250.0</td>\n",
       "    </tr>\n",
       "    <tr>\n",
       "      <th>4</th>\n",
       "      <td>193.0</td>\n",
       "      <td>3450.0</td>\n",
       "    </tr>\n",
       "    <tr>\n",
       "      <th>5</th>\n",
       "      <td>190.0</td>\n",
       "      <td>3650.0</td>\n",
       "    </tr>\n",
       "    <tr>\n",
       "      <th>...</th>\n",
       "      <td>...</td>\n",
       "      <td>...</td>\n",
       "    </tr>\n",
       "    <tr>\n",
       "      <th>338</th>\n",
       "      <td>214.0</td>\n",
       "      <td>4925.0</td>\n",
       "    </tr>\n",
       "    <tr>\n",
       "      <th>340</th>\n",
       "      <td>215.0</td>\n",
       "      <td>4850.0</td>\n",
       "    </tr>\n",
       "    <tr>\n",
       "      <th>341</th>\n",
       "      <td>222.0</td>\n",
       "      <td>5750.0</td>\n",
       "    </tr>\n",
       "    <tr>\n",
       "      <th>342</th>\n",
       "      <td>212.0</td>\n",
       "      <td>5200.0</td>\n",
       "    </tr>\n",
       "    <tr>\n",
       "      <th>343</th>\n",
       "      <td>213.0</td>\n",
       "      <td>5400.0</td>\n",
       "    </tr>\n",
       "  </tbody>\n",
       "</table>\n",
       "<p>334 rows × 2 columns</p>\n",
       "</div>"
      ],
      "text/plain": [
       "     flipper_length_mm  body_mass_g\n",
       "0                181.0       3750.0\n",
       "1                186.0       3800.0\n",
       "2                195.0       3250.0\n",
       "4                193.0       3450.0\n",
       "5                190.0       3650.0\n",
       "..                 ...          ...\n",
       "338              214.0       4925.0\n",
       "340              215.0       4850.0\n",
       "341              222.0       5750.0\n",
       "342              212.0       5200.0\n",
       "343              213.0       5400.0\n",
       "\n",
       "[334 rows x 2 columns]"
      ]
     },
     "execution_count": 15,
     "metadata": {},
     "output_type": "execute_result"
    }
   ],
   "source": [
    "flipperLength_x_bodyMass = data[['flipper_length_mm','body_mass_g']]\n",
    "flipperLength_x_bodyMass"
   ]
  },
  {
   "cell_type": "markdown",
   "id": "7644ee3e-3a2e-4f09-a323-5a32d11060af",
   "metadata": {},
   "source": [
    "Okay, so here's a short output of the two variables. Let's plot this data in a scatterplot and see if we can find any trends betwen the two variables."
   ]
  },
  {
   "cell_type": "code",
   "execution_count": 16,
   "id": "81e54482-958d-4a02-9fad-3db85280a494",
   "metadata": {},
   "outputs": [
    {
     "data": {
      "image/png": "[encoded data removed]",
      "text/plain": [
       "<Figure size 432x288 with 1 Axes>"
      ]
     },
     "metadata": {
      "needs_background": "light"
     },
     "output_type": "display_data"
    }
   ],
   "source": [
    "scatter = plt.scatter(data.flipper_length_mm, data.body_mass_g)\n",
    "plt.title(\"culmen depth by culmen length\")\n",
    "plt.xlabel(\"culmen length (mm)\")\n",
    "plt.ylabel(\"culmen depth (mm)\")\n",
    "plt.show()"
   ]
  },
  {
   "cell_type": "markdown",
   "id": "fddca2bc-5ffb-40fd-838d-324bada9517a",
   "metadata": {},
   "source": [
    "Wow! The overall pattern for the data appears to be positive, moderately strongly correlated, and fairly linear. I do notice two clusters, separated by a vertical axis through around `culmen_length` = 205mm. The comparison of `culmen_depth_mm` by `culmen_length_mm` revealed a strong influence of `species` on the physical characteristics of the penguins. I'll plot the graph with respect to the `species` again."
   ]
  },
  {
   "cell_type": "code",
   "execution_count": 56,
   "id": "f88ef534-0e1b-48d4-b2a1-d18e1541f540",
   "metadata": {},
   "outputs": [
    {
     "data": {
      "image/png": "[encoded data removed]",
      "text/plain": [
       "<Figure size 432x288 with 1 Axes>"
      ]
     },
     "metadata": {
      "needs_background": "light"
     },
     "output_type": "display_data"
    }
   ],
   "source": [
    "scatter = plt.scatter(data.flipper_length_mm, data.body_mass_g, c=data.species.astype('category').cat.codes)\n",
    "plt.title(\"body mass by flipper length\")\n",
    "plt.xlabel(\"flipper length (mm)\")\n",
    "plt.ylabel(\"body mass (g)\")\n",
    "plt.legend(handles = scatter.legend_elements()[0], labels = ['Adelie','Chinstrap','Gentoo'])\n",
    "plt.show()"
   ]
  },
  {
   "cell_type": "markdown",
   "id": "39ecca2f-39b4-452c-a0ee-9f7fa6b07d8c",
   "metadata": {},
   "source": [
    "The coloring by species isn't as distinguishing as last time, but still very distinguishing. Gentoo penguins are the cluster in the top-right of the plot, and its species seems to have the longest flipper length and body mass. Adelie and Chinstrap penguins form the cluster towards the bottom left, and since the points are relatively randomly mixed with one another, the two species have very similar flipper length and body masses."
   ]
  },
  {
   "cell_type": "markdown",
   "id": "7f805e22-5191-4170-b9a0-36ab290e2301",
   "metadata": {},
   "source": [
    "__So this is where I'm going to stop. Everything in this notebook can be used as my artifact for the Oral Exam with Dr. Zufelt on Wednesday, November 3 at 11:45AM. To quickly summarize, I found a dataset including charactersitics of Palmer Penguins, cleaned the data, and analyzed physical characterstics with respect to each penguin's species.__"
   ]
  }
 ],
 "metadata": {
  "kernelspec": {
   "display_name": "Python 3",
   "language": "python",
   "name": "python3"
  },
  "language_info": {
   "codemirror_mode": {
    "name": "ipython",
    "version": 3
   },
   "file_extension": ".py",
   "mimetype": "text/x-python",
   "name": "python",
   "nbconvert_exporter": "python",
   "pygments_lexer": "ipython3",
   "version": "3.8.8"
  }
 },
 "nbformat": 4,
 "nbformat_minor": 5
}
